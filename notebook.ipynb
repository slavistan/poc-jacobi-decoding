{
 "cells": [
  {
   "cell_type": "code",
   "execution_count": 1,
   "metadata": {},
   "outputs": [
    {
     "data": {
      "application/vnd.jupyter.widget-view+json": {
       "model_id": "ef572ca127af448aba0a074c76d13a4e",
       "version_major": 2,
       "version_minor": 0
      },
      "text/plain": [
       "Loading checkpoint shards:   0%|          | 0/3 [00:00<?, ?it/s]"
      ]
     },
     "metadata": {},
     "output_type": "display_data"
    }
   ],
   "source": [
    "from transformers import AutoModelForCausalLM, AutoTokenizer, MistralForCausalLM\n",
    "import time\n",
    "import torch\n",
    "\n",
    "device = \"cuda\" # the device to load the model onto\n",
    "\n",
    "model: MistralForCausalLM = AutoModelForCausalLM.from_pretrained(\"mistralai/Mistral-7B-Instruct-v0.2\", torch_dtype=torch.float16)\n",
    "model.to(device)\n",
    "tokenizer = AutoTokenizer.from_pretrained(\"mistralai/Mistral-7B-Instruct-v0.2\")"
   ]
  },
  {
   "cell_type": "code",
   "execution_count": 3,
   "metadata": {},
   "outputs": [],
   "source": [
    "\n",
    "messages = [\n",
    "    {\"role\": \"user\", \"content\": \"What is your favourite condiment?\"},\n",
    "    {\"role\": \"assistant\", \"content\": \"Well, I'm quite partial to a good squeeze of fresh lemon juice. It adds just the right amount of zesty flavour to whatever I'm cooking up in the kitchen!\"},\n",
    "    {\"role\": \"user\", \"content\": \"Do you have mayonnaise recipes?\"}\n",
    "]\n",
    "\n",
    "encodeds = tokenizer.apply_chat_template(messages, return_tensors=\"pt\")"
   ]
  },
  {
   "cell_type": "code",
   "execution_count": 25,
   "metadata": {},
   "outputs": [
    {
     "name": "stdout",
     "output_type": "stream",
     "text": [
      "0.57s\n"
     ]
    },
    {
     "data": {
      "text/plain": [
       "tensor([[ 5592, 28725,   315,   541,  5785,  1316,   368,   395,   264, 11495,\n",
       "           993,  7136,   864, 13405, 28723,  4003]], device='cuda:0')"
      ]
     },
     "execution_count": 25,
     "metadata": {},
     "output_type": "execute_result"
    }
   ],
   "source": [
    "@torch.no_grad()\n",
    "def sample_autoreg(\n",
    "    token_ids: torch.Tensor,\n",
    "    model: torch.nn.Module,\n",
    "    device=\"cuda\",\n",
    "    num_tokens=128,\n",
    "):\n",
    "    len_prefix = token_ids.shape[1]\n",
    "    t = torch.cat((token_ids, torch.full((1, num_tokens), 0, dtype=token_ids.dtype)), dim=-1).to(device)\n",
    "    for i in range(num_tokens):\n",
    "        new_token_id = model(t[:, :len_prefix + i]).logits[0, -1, :].argmax()\n",
    "        t[0, len_prefix+i] = new_token_id.item()\n",
    "\n",
    "    return t[0, len_prefix:].reshape((1, -1))\n",
    "\n",
    "start = time.time()\n",
    "generated_ids = sample_autoreg(\n",
    "    encodeds,\n",
    "    model,\n",
    "    \"cuda\",\n",
    "    16,\n",
    ")\n",
    "print(f\"{time.time() - start:.2f}s\")\n",
    "\n",
    "decoded = tokenizer.batch_decode(generated_ids)\n",
    "# print(decoded[0][:12])\n",
    "generated_ids"
   ]
  },
  {
   "cell_type": "code",
   "execution_count": 27,
   "metadata": {},
   "outputs": [
    {
     "name": "stdout",
     "output_type": "stream",
     "text": [
      "118.14s\n",
      "Yes, I can c\n"
     ]
    }
   ],
   "source": [
    "@torch.no_grad()\n",
    "def sample_jacobi_decode(\n",
    "    token_ids: torch.Tensor,\n",
    "    model: torch.nn.Module,\n",
    "    device=\"cuda\",\n",
    "    num_tokens=128,\n",
    "    num_extra=3,\n",
    "):\n",
    "    assert token_ids.shape[0] == 1\n",
    "\n",
    "    len_prefix = token_ids.shape[1]\n",
    "    t = torch.cat((token_ids, torch.full((1, num_tokens), 0, dtype=token_ids.dtype)), dim=-1).to(device)\n",
    "\n",
    "    i = len_prefix  # write index\n",
    "    while i < len_prefix + num_tokens:\n",
    "        n = min(num_extra, len_prefix + num_tokens - i - 1)\n",
    "\n",
    "        # forward pass\n",
    "        indices = model(t[:, :i + n]).logits[0, -(n+1):, :].argmax(dim=-1)\n",
    "\n",
    "        # comparison\n",
    "        j = 0\n",
    "        nhits = 0\n",
    "        for j in range(n):\n",
    "            if indices[j].item() != t[0, i + j].item():\n",
    "                break\n",
    "            nhits += 1\n",
    "\n",
    "        # update guesses for next round 👍\n",
    "        t[0, i:i+n+1] = indices\n",
    "\n",
    "        i += nhits + 1\n",
    "\n",
    "    return t[0, len_prefix:].reshape((1, -1))\n",
    "\n",
    "start = time.time()\n",
    "generated_ids = sample_jacobi_decode(\n",
    "    encodeds,\n",
    "    model,\n",
    "    \"cuda\",\n",
    "    num_tokens=128,\n",
    "    num_extra=1,\n",
    ")\n",
    "print(f\"{time.time() - start:.2f}s\")\n",
    "\n",
    "decoded = tokenizer.batch_decode(generated_ids)\n",
    "print(decoded[0][:12])"
   ]
  }
 ],
 "metadata": {
  "kernelspec": {
   "display_name": "Python 3",
   "language": "python",
   "name": "python3"
  },
  "language_info": {
   "codemirror_mode": {
    "name": "ipython",
    "version": 3
   },
   "file_extension": ".py",
   "mimetype": "text/x-python",
   "name": "python",
   "nbconvert_exporter": "python",
   "pygments_lexer": "ipython3",
   "version": "3.10.13"
  }
 },
 "nbformat": 4,
 "nbformat_minor": 2
}
